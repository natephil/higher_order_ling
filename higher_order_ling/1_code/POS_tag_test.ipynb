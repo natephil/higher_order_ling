{
 "cells": [
  {
   "cell_type": "code",
   "execution_count": 2,
   "metadata": {},
   "outputs": [],
   "source": [
    "# nltk = natural language toolkit\n",
    "import nltk\n",
    "import pandas as pd"
   ]
  },
  {
   "cell_type": "code",
   "execution_count": 3,
   "metadata": {
    "scrolled": true
   },
   "outputs": [
    {
     "name": "stdout",
     "output_type": "stream",
     "text": [
      "[('Testing', 'VBG'), ('testing', 'VBG'), ('one', 'CD'), ('two', 'CD'), ('three', 'CD'), ('.', '.')]\n",
      "[('I', 'PRP'), ('like', 'VBP'), ('bagels', 'NNS'), ('.', '.'), ('Bagels', 'NNS'), ('are', 'VBP'), ('nice', 'JJ'), ('.', '.')]\n",
      "[('Honestly', 'RB'), ('though', 'IN'), (',', ','), ('I', 'PRP'), ('like', 'VBP'), ('pretzels', 'NNS'), ('more', 'RBR'), ('.', '.')]\n"
     ]
    }
   ],
   "source": [
    "# open the desired file\n",
    "# for loop that says \"for each line in this text file, tokenize the lines, and then tag them.\"\n",
    "# print out what we've tagged\n",
    "file = open(\"/Users/nathancahn/Desktop/test_file.txt\", \"r\")\n",
    "for line in file:\n",
    "    tokens = nltk.word_tokenize(line)\n",
    "    tagged = nltk.pos_tag(tokens)\n",
    "    print(tagged)"
   ]
  },
  {
   "cell_type": "code",
   "execution_count": null,
   "metadata": {},
   "outputs": [],
   "source": []
  },
  {
   "cell_type": "code",
   "execution_count": null,
   "metadata": {},
   "outputs": [],
   "source": []
  },
  {
   "cell_type": "code",
   "execution_count": null,
   "metadata": {},
   "outputs": [],
   "source": []
  },
  {
   "cell_type": "code",
   "execution_count": null,
   "metadata": {},
   "outputs": [],
   "source": []
  }
 ],
 "metadata": {
  "kernelspec": {
   "display_name": "Python 3",
   "language": "python",
   "name": "python3"
  },
  "language_info": {
   "codemirror_mode": {
    "name": "ipython",
    "version": 3
   },
   "file_extension": ".py",
   "mimetype": "text/x-python",
   "name": "python",
   "nbconvert_exporter": "python",
   "pygments_lexer": "ipython3",
   "version": "3.7.0"
  }
 },
 "nbformat": 4,
 "nbformat_minor": 2
}
